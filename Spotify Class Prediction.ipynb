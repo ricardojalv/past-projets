{
  "nbformat": 4,
  "nbformat_minor": 0,
  "metadata": {
    "colab": {
      "name": "Assignment 1 - Ricardo Alvarez .ipynb",
      "provenance": [],
      "collapsed_sections": []
    },
    "kernelspec": {
      "name": "python3",
      "display_name": "Python 3"
    },
    "language_info": {
      "name": "python"
    }
  },
  "cells": [
    {
      "cell_type": "markdown",
      "metadata": {
        "id": "knWrJSKJLUq0"
      },
      "source": [
        "# Predict music genre on spotify data with neural network"
      ]
    },
    {
      "cell_type": "markdown",
      "metadata": {
        "id": "nGJXHCo5cAWO"
      },
      "source": [
        "For this exercise, we'll use a dataset from Spotify containing music attributes such as bpm, energy, and danceability. It has 45 songs that belong to either the 'rock' genre or the 'dance pop' genre. For this example, as in our lecture, we won't bother to split the data into training and test sets (again, the data here is pretty small)."
      ]
    },
    {
      "cell_type": "code",
      "metadata": {
        "id": "MNtEiOK6zAUL"
      },
      "source": [
        "import torch\n",
        "import pandas as pd\n",
        "import numpy as np\n",
        "from sklearn.model_selection  import train_test_split"
      ],
      "execution_count": 3,
      "outputs": []
    },
    {
      "cell_type": "code",
      "metadata": {
        "id": "UaGrp217cAWQ",
        "colab": {
          "base_uri": "https://localhost:8080/",
          "height": 206
        },
        "outputId": "7484c57e-c64b-404c-db91-41c3c2922496"
      },
      "source": [
        "# Read the data\n",
        "musicFile = './spotify.csv'\n",
        "musicData = pd.read_csv(musicFile, encoding='latin-1')\n",
        "musicData.head()"
      ],
      "execution_count": 4,
      "outputs": [
        {
          "output_type": "execute_result",
          "data": {
            "text/html": [
              "\n",
              "  <div id=\"df-4b8cebc2-dedf-4227-bc05-51386e65807e\">\n",
              "    <div class=\"colab-df-container\">\n",
              "      <div>\n",
              "<style scoped>\n",
              "    .dataframe tbody tr th:only-of-type {\n",
              "        vertical-align: middle;\n",
              "    }\n",
              "\n",
              "    .dataframe tbody tr th {\n",
              "        vertical-align: top;\n",
              "    }\n",
              "\n",
              "    .dataframe thead th {\n",
              "        text-align: right;\n",
              "    }\n",
              "</style>\n",
              "<table border=\"1\" class=\"dataframe\">\n",
              "  <thead>\n",
              "    <tr style=\"text-align: right;\">\n",
              "      <th></th>\n",
              "      <th>title</th>\n",
              "      <th>artist</th>\n",
              "      <th>top genre</th>\n",
              "      <th>bpm</th>\n",
              "      <th>energy</th>\n",
              "      <th>danceability</th>\n",
              "      <th>liveness</th>\n",
              "      <th>valence</th>\n",
              "      <th>acousticness</th>\n",
              "      <th>speechiness</th>\n",
              "    </tr>\n",
              "  </thead>\n",
              "  <tbody>\n",
              "    <tr>\n",
              "      <th>0</th>\n",
              "      <td>Highway to Hell</td>\n",
              "      <td>AC/DC</td>\n",
              "      <td>rock</td>\n",
              "      <td>116</td>\n",
              "      <td>91</td>\n",
              "      <td>57</td>\n",
              "      <td>16</td>\n",
              "      <td>42</td>\n",
              "      <td>6</td>\n",
              "      <td>13</td>\n",
              "    </tr>\n",
              "    <tr>\n",
              "      <th>1</th>\n",
              "      <td>Back In Black</td>\n",
              "      <td>AC/DC</td>\n",
              "      <td>rock</td>\n",
              "      <td>188</td>\n",
              "      <td>70</td>\n",
              "      <td>31</td>\n",
              "      <td>8</td>\n",
              "      <td>76</td>\n",
              "      <td>1</td>\n",
              "      <td>5</td>\n",
              "    </tr>\n",
              "    <tr>\n",
              "      <th>2</th>\n",
              "      <td>Thunderstruck</td>\n",
              "      <td>AC/DC</td>\n",
              "      <td>rock</td>\n",
              "      <td>134</td>\n",
              "      <td>89</td>\n",
              "      <td>50</td>\n",
              "      <td>22</td>\n",
              "      <td>26</td>\n",
              "      <td>0</td>\n",
              "      <td>4</td>\n",
              "    </tr>\n",
              "    <tr>\n",
              "      <th>3</th>\n",
              "      <td>Sweet Home Alabama</td>\n",
              "      <td>Lynyrd Skynyrd</td>\n",
              "      <td>rock</td>\n",
              "      <td>98</td>\n",
              "      <td>61</td>\n",
              "      <td>60</td>\n",
              "      <td>9</td>\n",
              "      <td>89</td>\n",
              "      <td>18</td>\n",
              "      <td>3</td>\n",
              "    </tr>\n",
              "    <tr>\n",
              "      <th>4</th>\n",
              "      <td>Fortunate Son</td>\n",
              "      <td>Creedence Clearwater Revival</td>\n",
              "      <td>rock</td>\n",
              "      <td>133</td>\n",
              "      <td>66</td>\n",
              "      <td>64</td>\n",
              "      <td>15</td>\n",
              "      <td>66</td>\n",
              "      <td>20</td>\n",
              "      <td>4</td>\n",
              "    </tr>\n",
              "  </tbody>\n",
              "</table>\n",
              "</div>\n",
              "      <button class=\"colab-df-convert\" onclick=\"convertToInteractive('df-4b8cebc2-dedf-4227-bc05-51386e65807e')\"\n",
              "              title=\"Convert this dataframe to an interactive table.\"\n",
              "              style=\"display:none;\">\n",
              "        \n",
              "  <svg xmlns=\"http://www.w3.org/2000/svg\" height=\"24px\"viewBox=\"0 0 24 24\"\n",
              "       width=\"24px\">\n",
              "    <path d=\"M0 0h24v24H0V0z\" fill=\"none\"/>\n",
              "    <path d=\"M18.56 5.44l.94 2.06.94-2.06 2.06-.94-2.06-.94-.94-2.06-.94 2.06-2.06.94zm-11 1L8.5 8.5l.94-2.06 2.06-.94-2.06-.94L8.5 2.5l-.94 2.06-2.06.94zm10 10l.94 2.06.94-2.06 2.06-.94-2.06-.94-.94-2.06-.94 2.06-2.06.94z\"/><path d=\"M17.41 7.96l-1.37-1.37c-.4-.4-.92-.59-1.43-.59-.52 0-1.04.2-1.43.59L10.3 9.45l-7.72 7.72c-.78.78-.78 2.05 0 2.83L4 21.41c.39.39.9.59 1.41.59.51 0 1.02-.2 1.41-.59l7.78-7.78 2.81-2.81c.8-.78.8-2.07 0-2.86zM5.41 20L4 18.59l7.72-7.72 1.47 1.35L5.41 20z\"/>\n",
              "  </svg>\n",
              "      </button>\n",
              "      \n",
              "  <style>\n",
              "    .colab-df-container {\n",
              "      display:flex;\n",
              "      flex-wrap:wrap;\n",
              "      gap: 12px;\n",
              "    }\n",
              "\n",
              "    .colab-df-convert {\n",
              "      background-color: #E8F0FE;\n",
              "      border: none;\n",
              "      border-radius: 50%;\n",
              "      cursor: pointer;\n",
              "      display: none;\n",
              "      fill: #1967D2;\n",
              "      height: 32px;\n",
              "      padding: 0 0 0 0;\n",
              "      width: 32px;\n",
              "    }\n",
              "\n",
              "    .colab-df-convert:hover {\n",
              "      background-color: #E2EBFA;\n",
              "      box-shadow: 0px 1px 2px rgba(60, 64, 67, 0.3), 0px 1px 3px 1px rgba(60, 64, 67, 0.15);\n",
              "      fill: #174EA6;\n",
              "    }\n",
              "\n",
              "    [theme=dark] .colab-df-convert {\n",
              "      background-color: #3B4455;\n",
              "      fill: #D2E3FC;\n",
              "    }\n",
              "\n",
              "    [theme=dark] .colab-df-convert:hover {\n",
              "      background-color: #434B5C;\n",
              "      box-shadow: 0px 1px 3px 1px rgba(0, 0, 0, 0.15);\n",
              "      filter: drop-shadow(0px 1px 2px rgba(0, 0, 0, 0.3));\n",
              "      fill: #FFFFFF;\n",
              "    }\n",
              "  </style>\n",
              "\n",
              "      <script>\n",
              "        const buttonEl =\n",
              "          document.querySelector('#df-4b8cebc2-dedf-4227-bc05-51386e65807e button.colab-df-convert');\n",
              "        buttonEl.style.display =\n",
              "          google.colab.kernel.accessAllowed ? 'block' : 'none';\n",
              "\n",
              "        async function convertToInteractive(key) {\n",
              "          const element = document.querySelector('#df-4b8cebc2-dedf-4227-bc05-51386e65807e');\n",
              "          const dataTable =\n",
              "            await google.colab.kernel.invokeFunction('convertToInteractive',\n",
              "                                                     [key], {});\n",
              "          if (!dataTable) return;\n",
              "\n",
              "          const docLinkHtml = 'Like what you see? Visit the ' +\n",
              "            '<a target=\"_blank\" href=https://colab.research.google.com/notebooks/data_table.ipynb>data table notebook</a>'\n",
              "            + ' to learn more about interactive tables.';\n",
              "          element.innerHTML = '';\n",
              "          dataTable['output_type'] = 'display_data';\n",
              "          await google.colab.output.renderOutput(dataTable, element);\n",
              "          const docLink = document.createElement('div');\n",
              "          docLink.innerHTML = docLinkHtml;\n",
              "          element.appendChild(docLink);\n",
              "        }\n",
              "      </script>\n",
              "    </div>\n",
              "  </div>\n",
              "  "
            ],
            "text/plain": [
              "                title                        artist top genre  bpm  energy  \\\n",
              "0     Highway to Hell                         AC/DC      rock  116      91   \n",
              "1       Back In Black                         AC/DC      rock  188      70   \n",
              "2       Thunderstruck                         AC/DC      rock  134      89   \n",
              "3  Sweet Home Alabama                Lynyrd Skynyrd      rock   98      61   \n",
              "4       Fortunate Son  Creedence Clearwater Revival      rock  133      66   \n",
              "\n",
              "   danceability  liveness  valence  acousticness  speechiness  \n",
              "0            57        16       42             6           13  \n",
              "1            31         8       76             1            5  \n",
              "2            50        22       26             0            4  \n",
              "3            60         9       89            18            3  \n",
              "4            64        15       66            20            4  "
            ]
          },
          "metadata": {},
          "execution_count": 4
        }
      ]
    },
    {
      "cell_type": "markdown",
      "metadata": {
        "id": "DR1UqknYcAWd"
      },
      "source": [
        "The first step is to define the dataset. \n",
        "\n",
        "Make a new column in the dataframe called 'genre_class'. Set it to be 0 for 'rock' and 1 for 'dance pop' (these are the only genres in the dataset).\n",
        "\n",
        "We need to get our pandas data into torch tensors. One way to do this is to first convert them to numpy arrays and then call `torch.from_numpy()` on the numpy arrays. We'll want to set the `dtype='float32'` when we call `np.array()` on the pandas columns.\n",
        "\n",
        "Define the musical attributes ('bpm' through 'speechiness') as a pytorch tensor called `features`.\n",
        "\n",
        "Define a pytorch tensor called `targets`  based on the column `genre_class`.\n",
        "\n"
      ]
    },
    {
      "cell_type": "code",
      "metadata": {
        "id": "O7m0_I03dAQk"
      },
      "source": [
        "musicData[\"genre_class\"] =  np.where(musicData['top genre'] == 'rock', 0, 1)\n",
        "musicData = musicData.drop(columns=[\"top genre\"])\n",
        "to_torch = musicData.iloc[:, 2:-1]\n",
        "class_ = musicData.iloc[:, -1:]\n",
        "\n",
        "features = torch.from_numpy(np.array(to_torch, dtype='float32')) \n",
        "targets = torch.from_numpy(np.array(class_, dtype='float32')) "
      ],
      "execution_count": 5,
      "outputs": []
    },
    {
      "cell_type": "markdown",
      "metadata": {
        "id": "5k3m8gHkkobC"
      },
      "source": [
        "Now create a TensorDataSet from `features` and `targets` called `train_ds`.\n",
        "\n",
        "Also create a DataLoader called `train_dl` from `train_ds` using `batch_size=10` and `shuffle=True`. "
      ]
    },
    {
      "cell_type": "code",
      "metadata": {
        "id": "3ImvTDwRknYc"
      },
      "source": [
        "from torch.utils.data import TensorDataset, DataLoader\n",
        "\n",
        "train_ds = TensorDataset(features, targets)\n",
        "\n",
        "train_dl = DataLoader(train_ds, batch_size=10, shuffle=True)"
      ],
      "execution_count": 6,
      "outputs": []
    },
    {
      "cell_type": "markdown",
      "metadata": {
        "id": "1cAjLanZthHd"
      },
      "source": [
        "Note that we can see the shapes of tensors drawn from the dataloader with our given batch size:"
      ]
    },
    {
      "cell_type": "code",
      "metadata": {
        "id": "IPelWIJHtp4E",
        "colab": {
          "base_uri": "https://localhost:8080/"
        },
        "outputId": "db334700-03f8-49cb-f149-fdecd83ebf6b"
      },
      "source": [
        "x1,y1=next(iter(train_dl)) # pull a single x,y from the data loader\n",
        "print(x1.shape)\n",
        "print(y1.shape)"
      ],
      "execution_count": 7,
      "outputs": [
        {
          "output_type": "stream",
          "name": "stdout",
          "text": [
            "torch.Size([10, 7])\n",
            "torch.Size([10, 1])\n"
          ]
        }
      ]
    },
    {
      "cell_type": "markdown",
      "metadata": {
        "id": "nNnPd4WRt0jP"
      },
      "source": [
        "If we wanted to pass these through a loss function, we would likely have to alter the shape of the `y`, to something that our loss function can understand. We can do this with a `.view(-1,1)` operation, which will make it a tensor with 90 rows and 1 column (instead of a 1d tensor), like so:"
      ]
    },
    {
      "cell_type": "code",
      "metadata": {
        "id": "gX4uvvQyuDym",
        "colab": {
          "base_uri": "https://localhost:8080/"
        },
        "outputId": "89735e28-bf53-49b5-87c1-9d1585dd27ce"
      },
      "source": [
        "y1.view(-1,1)\n",
        "print(y1.view(-1,1).shape) # this will output a shape of [batch_size,1]"
      ],
      "execution_count": 8,
      "outputs": [
        {
          "output_type": "stream",
          "name": "stdout",
          "text": [
            "torch.Size([10, 1])\n"
          ]
        }
      ]
    },
    {
      "cell_type": "markdown",
      "metadata": {
        "id": "c4aQYmpMcAWv"
      },
      "source": [
        "For our neural network model we'll use a single fully connected layer (`torch.nn.Linear()`), followed by a sigmoid activation function (`torch.nn.Sigmoid()`). \n",
        "\n",
        "Note that `torch.nn.Linear()` takes two arguments that specify the size of the input and output. You'll have to figure out what these should be based on the data. Remember that we want to connect all the features to a single output that is then passed through the activation function. `torch.nn.Sigmoid()` does not need any arguments.\n",
        "\n",
        "We can create a model object from these two layers by passing them as arguments to `torch.nn.Sequential()`. This will make a neural network that connects the output of each layer to the input of the next.\n",
        "\n",
        "By using the sigmoid function, the output of the fully connected layers is converted into a value between 0 and 1. If the converted value is larger than 0.5, we will interpret this as the model predicting the genre of a music to be 'dance pop' (since we set `genre_class=1` for 'dance pop'. Otherwise, the model predicts the genre to be 'rock' music.\n",
        "\n",
        "We'll set the random seed of pytorch manually, using `torch.manual_seed(0)` just to ensure that we are all working on the same shuffled sequence. This step is not needed in general when you train a NN with shuffling, but just included to make sure we're all on the same page."
      ]
    },
    {
      "cell_type": "code",
      "metadata": {
        "id": "7phZNjsNcAWw"
      },
      "source": [
        "torch.manual_seed(0)\n",
        "\n",
        "model = torch.nn.Sequential(torch.nn.Linear(x1.shape[1], y1.shape[1]), torch.nn.Sigmoid()) "
      ],
      "execution_count": 9,
      "outputs": []
    },
    {
      "cell_type": "markdown",
      "metadata": {
        "id": "T_-vGJ8XcAW1"
      },
      "source": [
        "Now instantiate an SGD optimizer using `torch.optim.SGD()`. We can use a learning rate of `lr=1e-4`.\n",
        "\n",
        "For the loss function, we'll use the binary cross entropy loss, `torch.nn.BCELoss()` with the argument `reduction='mean'`. BCELoss is often used in logistic regression."
      ]
    },
    {
      "cell_type": "code",
      "metadata": {
        "id": "pZlcoxeCcAW3"
      },
      "source": [
        "optimizer = torch.optim.SGD(model.parameters(), lr=1e-4) \n",
        "loss_function = torch.nn.BCELoss(reduction='mean')"
      ],
      "execution_count": 10,
      "outputs": []
    },
    {
      "cell_type": "markdown",
      "metadata": {
        "id": "9xbDnw-qcAW7"
      },
      "source": [
        "Now write the code for training the model over 1000 epochs. You can look back at my `fit()` function defined in the lecture. You don't need to write this as a function, but can instead just write the code directly.\n",
        "\n",
        "The model will be trained for 1000 epochs (i.e., you need to loop over epochs).\n",
        "\n",
        "When you call `loss_function`, on the predictions (`pred`) and the targets (`yb`), you will need to adjust the shape of the targets, as explained above.\n",
        "\n",
        "We can calculate a running_loss for each epoch by setting `running_loss=0` before looping over the items in `train_dl`.  We can add up the contribution from each batch to the running loss by adding a line `running_loss+=loss.item()` after calling `loss.backward()`.\n",
        "\n",
        "Finally, we may like to print out the loss for some epochs (there are 1000 epochs, so its overkill to print out the loss for each one). Instead we can print out the loss for only certain values of the epoch -- for example when the epoch divided by 100 has a remainder of 99, or `epoch%100==99`. When this occurs, print out the average loss for that epoch, `running_loss/len(train_dl)`. \n",
        "\n",
        "You can also try your hand at calculating either the average training accuracy for an epcoh or the \"last batch training accuracy\" of the model at these particular epochs."
      ]
    },
    {
      "cell_type": "code",
      "metadata": {
        "id": "kRC-YvOGcAW8",
        "colab": {
          "base_uri": "https://localhost:8080/"
        },
        "outputId": "069c34a3-245b-4c36-a625-f0405eeffbe3"
      },
      "source": [
        "n_epochs = 1000\n",
        "model.train()\n",
        "for epoch in range(n_epochs):\n",
        "  running_loss = 0\n",
        "  for xb, yb in train_dl:\n",
        "    optimizer.zero_grad()\n",
        "    pred = model(xb)\n",
        "    loss = loss_function(pred, yb.view(-1,1))\n",
        "    loss.backward()\n",
        "    running_loss+=loss.item()\n",
        "    optimizer.step()\n",
        "  if (epoch%100==99):\n",
        "    print(\"Average loss is: \", running_loss/len(train_dl))"
      ],
      "execution_count": 11,
      "outputs": [
        {
          "output_type": "stream",
          "name": "stdout",
          "text": [
            "Average loss is:  0.5690520571337806\n",
            "Average loss is:  0.4071001609166463\n",
            "Average loss is:  0.40008948577774894\n",
            "Average loss is:  0.39151937928464675\n",
            "Average loss is:  0.4067053861088223\n",
            "Average loss is:  0.3969957083463669\n",
            "Average loss is:  0.3925536556376351\n",
            "Average loss is:  0.38820408946937984\n",
            "Average loss is:  0.3951929642094506\n",
            "Average loss is:  0.3979148417711258\n"
          ]
        }
      ]
    },
    {
      "cell_type": "markdown",
      "metadata": {
        "id": "gG1FIjwPcAXD"
      },
      "source": [
        "Finally, when the model has been fully trained, let's look at a prediction for a particular song. We'll predict the genre of Ariana Grande's \"no tears left to cry.\" This song is classified as 'dance pop' in the Spotify. Here's the music video:"
      ]
    },
    {
      "cell_type": "code",
      "metadata": {
        "id": "4rQuWBXncAXH",
        "outputId": "ed0f228a-6710-4179-82d3-095a75bb1b51",
        "colab": {
          "base_uri": "https://localhost:8080/",
          "height": 321
        }
      },
      "source": [
        "from IPython.display import YouTubeVideo\n",
        "YouTubeVideo('ffxKSjUwKdU',width=400,height=300)"
      ],
      "execution_count": 12,
      "outputs": [
        {
          "output_type": "execute_result",
          "data": {
            "text/html": [
              "\n",
              "        <iframe\n",
              "            width=\"400\"\n",
              "            height=\"300\"\n",
              "            src=\"https://www.youtube.com/embed/ffxKSjUwKdU\"\n",
              "            frameborder=\"0\"\n",
              "            allowfullscreen\n",
              "        ></iframe>\n",
              "        "
            ],
            "text/plain": [
              "<IPython.lib.display.YouTubeVideo at 0x7ff85cc75750>"
            ],
            "image/jpeg": "[encoded data removed]"
          },
          "metadata": {},
          "execution_count": 12
        }
      ]
    },
    {
      "cell_type": "markdown",
      "metadata": {
        "id": "kshQZkvpxcT5"
      },
      "source": [
        "This particular song has the features (bpm, energy, danceability, liveness, valence, acousticness, speechiness): [122, 71, 70, 29, 35, 4, 6]\n",
        "\n",
        "Get the prediction for this particular song by passing the appropriate input into the model to get the output. How do you interpret this output?"
      ]
    },
    {
      "cell_type": "code",
      "metadata": {
        "id": "HXF40eWBcAXN",
        "colab": {
          "base_uri": "https://localhost:8080/"
        },
        "outputId": "275c6256-662f-4c3b-e641-0e72f4a3cf39"
      },
      "source": [
        "result = model(torch.from_numpy(np.array([122., 71., 70., 29., 3.5, 4., 6.], dtype='float32')))\n",
        "result"
      ],
      "execution_count": 13,
      "outputs": [
        {
          "output_type": "execute_result",
          "data": {
            "text/plain": [
              "tensor([0.9891], grad_fn=<SigmoidBackward0>)"
            ]
          },
          "metadata": {},
          "execution_count": 13
        }
      ]
    },
    {
      "cell_type": "markdown",
      "source": [
        "**As this result is very close to 1, the interpretation of this result is that the model predicts this to be a dance pop song (class = 1).**"
      ],
      "metadata": {
        "id": "EPITbjBCsWui"
      }
    },
    {
      "cell_type": "markdown",
      "source": [
        "## Part 2\n",
        "- Split the data into training set and test set and compute accuracy on test set.\n",
        "- Try different model architectures and see its impact on accuracy on the test set. Possible changes to model architectures including but not limited to: number of hidden layers, number neuron in each layer, different activation functions."
      ],
      "metadata": {
        "id": "LhcpU1hUVsu6"
      }
    },
    {
      "cell_type": "code",
      "source": [
        "train_ds2, test_ds = torch.utils.data.random_split(train_ds,[80, 10])\n",
        "\n",
        "train2_dl = DataLoader(train_ds2, batch_size=10, shuffle=True)\n",
        "\n",
        "test_dl = DataLoader(test_ds, batch_size=10, shuffle=True)\n",
        "\n",
        "train_x1, train_y1 = next(iter(train2_dl)) \n",
        "test_x1, test_y1 = next(iter(test_dl)) \n",
        "#print(x1.shape)\n",
        "\n",
        "torch.manual_seed(0)\n",
        "\n",
        "def fit(num_epochs, model, loss_function, optimizer):\n",
        "  #print(model)\n",
        "  #print(loss_function)\n",
        "  #print(optimizer)\n",
        "  n_epochs = 1000\n",
        "  model.train()\n",
        "  for epoch in range(n_epochs):\n",
        "    running_loss = 0\n",
        "    for xb, yb in train2_dl:\n",
        "      optimizer.zero_grad()\n",
        "      pred = model(xb)\n",
        "      loss = loss_function(pred, yb.view(-1,1))\n",
        "      loss.backward()\n",
        "      running_loss+=loss.item()\n",
        "      optimizer.step()\n",
        "    if (epoch%100==99):\n",
        "      print(\"Average training loss is: \", running_loss/len(train_dl))\n",
        "\n",
        "  test_loss = 0\n",
        "  for xb, yb in test_dl:\n",
        "    pred = model(xb)\n",
        "    loss = loss_function(pred, yb.view(-1,1))\n",
        "    test_loss += loss.item()\n",
        "    print(\"Test loss is: \", test_loss/len(train_dl))\n",
        "  print(\"-----------------\")\n",
        "\n",
        "\n",
        "model = torch.nn.Sequential(torch.nn.Linear(train_x1.shape[1], train_y1.shape[1]), torch.nn.Sigmoid())\n",
        "fit(1000, model,(torch.nn.BCELoss(reduction='mean')), torch.optim.SGD(model.parameters(), lr=1e-4))\n",
        "\n",
        "model2 = torch.nn.Sequential(torch.nn.Linear(train_x1.shape[1], train_y1.shape[1]), torch.nn.ReLU(), torch.nn.Sigmoid())\n",
        "fit(10000, model2,(torch.nn.MSELoss(reduction='mean')), torch.optim.Adagrad(model2.parameters(), lr=1e-3))\n",
        "\n",
        "model3 = torch.nn.Sequential(torch.nn.Linear(train_x1.shape[1], train_y1.shape[1]), torch.nn.ReLU(), torch.nn.Tanh(), torch.nn.Sigmoid())\n",
        "fit(10000, model3,(torch.nn.BCELoss(reduction='mean')), torch.optim.SGD(model3.parameters(), lr=1e-3))\n",
        "\n",
        "model4 = torch.nn.Sequential(torch.nn.Linear(train_x1.shape[1], train_y1.shape[1]), torch.nn.ReLU(), torch.nn.Tanh(), torch.nn.Sigmoid())\n",
        "fit(10000, model4,(torch.nn.MSELoss(reduction='mean')), torch.optim.SGD(model4.parameters(), lr=1e-3))\n"
      ],
      "metadata": {
        "colab": {
          "base_uri": "https://localhost:8080/"
        },
        "id": "hMyiPJMysr2_",
        "outputId": "ee528cad-eceb-4cdd-f022-23a49e1028e5"
      },
      "execution_count": 49,
      "outputs": [
        {
          "output_type": "stream",
          "name": "stdout",
          "text": [
            "Average training loss is:  0.48392866055170697\n",
            "Average training loss is:  0.3520390060212877\n",
            "Average training loss is:  0.32234712110625374\n",
            "Average training loss is:  0.31877787825134063\n",
            "Average training loss is:  0.32549121810330284\n",
            "Average training loss is:  0.31433502005206215\n",
            "Average training loss is:  0.3141484061876933\n",
            "Average training loss is:  0.31100918187035453\n",
            "Average training loss is:  0.3111894362502628\n",
            "Average training loss is:  0.3021264473597209\n",
            "Test loss is:  0.10169082217746311\n",
            "-----------------\n",
            "Average training loss is:  0.4444444543785519\n",
            "Average training loss is:  0.4444444576899211\n",
            "Average training loss is:  0.4444444527228673\n",
            "Average training loss is:  0.4444444510671828\n",
            "Average training loss is:  0.4444444560342365\n",
            "Average training loss is:  0.4444444510671828\n",
            "Average training loss is:  0.4444444543785519\n",
            "Average training loss is:  0.4444444527228673\n",
            "Average training loss is:  0.4444444469279713\n",
            "Average training loss is:  0.4444444444444444\n",
            "Test loss is:  0.05555555555555555\n",
            "-----------------\n",
            "Average training loss is:  0.690239303641849\n",
            "Average training loss is:  0.6900246673160129\n",
            "Average training loss is:  0.6900393697950575\n",
            "Average training loss is:  0.6816881034109328\n",
            "Average training loss is:  0.681665215227339\n",
            "Average training loss is:  0.6815998289320204\n",
            "Average training loss is:  0.68157473537657\n",
            "Average training loss is:  0.6815700133641561\n",
            "Average training loss is:  0.6815687417984009\n",
            "Average training loss is:  0.6815696822272407\n",
            "Test loss is:  0.07658210065629747\n",
            "-----------------\n",
            "Average training loss is:  0.22656910949283177\n",
            "Average training loss is:  0.22656910618146262\n",
            "Average training loss is:  0.22656910949283177\n",
            "Average training loss is:  0.22656910949283177\n",
            "Average training loss is:  0.22656910949283177\n",
            "Average training loss is:  0.22656910949283177\n",
            "Average training loss is:  0.22656910949283177\n",
            "Average training loss is:  0.22656910949283177\n",
            "Average training loss is:  0.22656910949283177\n",
            "Average training loss is:  0.22656910949283177\n",
            "Test loss is:  0.03093822134865655\n",
            "-----------------\n"
          ]
        }
      ]
    }
  ]
}